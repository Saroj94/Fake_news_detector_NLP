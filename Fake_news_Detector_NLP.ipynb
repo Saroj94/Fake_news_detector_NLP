{
 "cells": [
  {
   "cell_type": "code",
   "execution_count": 1,
   "id": "2dca978c",
   "metadata": {},
   "outputs": [],
   "source": [
    "#libraries\n",
    "import pandas as pd\n",
    "import numpy as np\n",
    "import warnings\n",
    "warnings.filterwarnings('ignore')"
   ]
  },
  {
   "cell_type": "code",
   "execution_count": 2,
   "id": "0467bad9",
   "metadata": {},
   "outputs": [],
   "source": [
    "#loading train and test data\n",
    "Train=pd.read_csv('train.csv')\n",
    "Test=pd.read_csv('test.csv')"
   ]
  },
  {
   "cell_type": "code",
   "execution_count": 3,
   "id": "0ef2f088",
   "metadata": {},
   "outputs": [],
   "source": [
    "#creating required dataframe\n",
    "train=Train[['id','title','label']]\n",
    "test=Test[['id','title']]"
   ]
  },
  {
   "cell_type": "code",
   "execution_count": 4,
   "id": "d3e311cc",
   "metadata": {},
   "outputs": [
    {
     "data": {
      "text/plain": [
       "id         0\n",
       "title    558\n",
       "label      0\n",
       "dtype: int64"
      ]
     },
     "execution_count": 4,
     "metadata": {},
     "output_type": "execute_result"
    }
   ],
   "source": [
    "#checking missing values\n",
    "train.isnull().sum()"
   ]
  },
  {
   "cell_type": "code",
   "execution_count": 5,
   "id": "07fee28e",
   "metadata": {},
   "outputs": [],
   "source": [
    "#removing missing data from the data\n",
    "train.dropna(inplace=True)"
   ]
  },
  {
   "cell_type": "code",
   "execution_count": 6,
   "id": "b579936d",
   "metadata": {},
   "outputs": [
    {
     "data": {
      "text/plain": [
       "'FLYNN: Hillary Clinton, Big Woman on Campus - Breitbart'"
      ]
     },
     "execution_count": 6,
     "metadata": {},
     "output_type": "execute_result"
    }
   ],
   "source": [
    "train.title[1]"
   ]
  },
  {
   "cell_type": "code",
   "execution_count": 7,
   "id": "c4e68204",
   "metadata": {},
   "outputs": [
    {
     "data": {
      "text/html": [
       "<div>\n",
       "<style scoped>\n",
       "    .dataframe tbody tr th:only-of-type {\n",
       "        vertical-align: middle;\n",
       "    }\n",
       "\n",
       "    .dataframe tbody tr th {\n",
       "        vertical-align: top;\n",
       "    }\n",
       "\n",
       "    .dataframe thead th {\n",
       "        text-align: right;\n",
       "    }\n",
       "</style>\n",
       "<table border=\"1\" class=\"dataframe\">\n",
       "  <thead>\n",
       "    <tr style=\"text-align: right;\">\n",
       "      <th></th>\n",
       "      <th>id</th>\n",
       "      <th>title</th>\n",
       "      <th>target</th>\n",
       "    </tr>\n",
       "  </thead>\n",
       "  <tbody>\n",
       "    <tr>\n",
       "      <th>0</th>\n",
       "      <td>0</td>\n",
       "      <td>House Dem Aide: We Didn’t Even See Comey’s Let...</td>\n",
       "      <td>1</td>\n",
       "    </tr>\n",
       "    <tr>\n",
       "      <th>1</th>\n",
       "      <td>1</td>\n",
       "      <td>FLYNN: Hillary Clinton, Big Woman on Campus - ...</td>\n",
       "      <td>0</td>\n",
       "    </tr>\n",
       "    <tr>\n",
       "      <th>2</th>\n",
       "      <td>2</td>\n",
       "      <td>Why the Truth Might Get You Fired</td>\n",
       "      <td>1</td>\n",
       "    </tr>\n",
       "    <tr>\n",
       "      <th>3</th>\n",
       "      <td>3</td>\n",
       "      <td>15 Civilians Killed In Single US Airstrike Hav...</td>\n",
       "      <td>1</td>\n",
       "    </tr>\n",
       "    <tr>\n",
       "      <th>4</th>\n",
       "      <td>4</td>\n",
       "      <td>Iranian woman jailed for fictional unpublished...</td>\n",
       "      <td>1</td>\n",
       "    </tr>\n",
       "  </tbody>\n",
       "</table>\n",
       "</div>"
      ],
      "text/plain": [
       "   id                                              title  target\n",
       "0   0  House Dem Aide: We Didn’t Even See Comey’s Let...       1\n",
       "1   1  FLYNN: Hillary Clinton, Big Woman on Campus - ...       0\n",
       "2   2                  Why the Truth Might Get You Fired       1\n",
       "3   3  15 Civilians Killed In Single US Airstrike Hav...       1\n",
       "4   4  Iranian woman jailed for fictional unpublished...       1"
      ]
     },
     "execution_count": 7,
     "metadata": {},
     "output_type": "execute_result"
    }
   ],
   "source": [
    "#rename the column \n",
    "train['target']=train['label'].rename('target')\n",
    "train.drop('label',axis=1,inplace=True)\n",
    "train.head()"
   ]
  },
  {
   "cell_type": "code",
   "execution_count": 8,
   "id": "557f871f",
   "metadata": {},
   "outputs": [
    {
     "data": {
      "text/plain": [
       "array(['House Dem Aide: We Didn’t Even See Comey’s Letter Until Jason Chaffetz Tweeted It',\n",
       "       'FLYNN: Hillary Clinton, Big Woman on Campus - Breitbart',\n",
       "       'Why the Truth Might Get You Fired', ...,\n",
       "       'N.F.L. Playoffs: Schedule, Matchups and Odds - The New York Times',\n",
       "       'Macy’s Is Said to Receive Takeover Approach by Hudson’s Bay - The New York Times',\n",
       "       'NATO, Russia To Hold Parallel Exercises In Balkans'], dtype=object)"
      ]
     },
     "execution_count": 8,
     "metadata": {},
     "output_type": "execute_result"
    }
   ],
   "source": [
    "train.title.unique()"
   ]
  },
  {
   "cell_type": "markdown",
   "id": "80b1e4f6",
   "metadata": {},
   "source": [
    "# Libraries for Text Preprocessing"
   ]
  },
  {
   "cell_type": "code",
   "execution_count": 9,
   "id": "8ab0f6c4",
   "metadata": {},
   "outputs": [],
   "source": [
    "#dependencies\n",
    "import nltk\n",
    "from nltk.stem.porter import PorterStemmer\n",
    "from nltk.stem import WordNetLemmatizer\n",
    "import string\n",
    "import re\n",
    "from nltk.corpus import stopwords"
   ]
  },
  {
   "cell_type": "code",
   "execution_count": 10,
   "id": "ea82b871",
   "metadata": {},
   "outputs": [],
   "source": [
    "#objects of dependencies\n",
    "ps=PorterStemmer() #word stemmer\n",
    "wnl=WordNetLemmatizer() #word stemmer\n",
    "punc=string.punctuation #punctuation\n",
    "stop=stopwords.words('english')  #set of stopwords"
   ]
  },
  {
   "cell_type": "markdown",
   "id": "69bb53da",
   "metadata": {},
   "source": [
    "# Text Preprocessing"
   ]
  },
  {
   "cell_type": "code",
   "execution_count": 11,
   "id": "ad0d9be9",
   "metadata": {},
   "outputs": [],
   "source": [
    "#function defining to do text preprocessing\n",
    "def text_preprocess(text):\n",
    "    subtext=re.sub(r'[^a-zA-Z]',' ',str(text))   #substituiting\n",
    "    clean=re.sub(r'https?://\\S+|www.\\S+',' ',subtext)  #removing https \n",
    "    lowertext=subtext.lower()  #lowercasing\n",
    "    token=lowertext.split()  #simple token to each word in doc\n",
    "    nosw=[i for i in token if i not in stop] #nosw list \n",
    "    stem=[wnl.lemmatize(i) for i in nosw] #stemming each words of nosw\n",
    "    return \" \".join(stem) #string concat"
   ]
  },
  {
   "cell_type": "code",
   "execution_count": 12,
   "id": "4c7f723a",
   "metadata": {},
   "outputs": [],
   "source": [
    "#applying the function\n",
    "train['clean_text']=train['title'].apply(lambda x: text_preprocess(x))"
   ]
  },
  {
   "cell_type": "code",
   "execution_count": 13,
   "id": "066ae8dd",
   "metadata": {},
   "outputs": [
    {
     "data": {
      "text/html": [
       "<div>\n",
       "<style scoped>\n",
       "    .dataframe tbody tr th:only-of-type {\n",
       "        vertical-align: middle;\n",
       "    }\n",
       "\n",
       "    .dataframe tbody tr th {\n",
       "        vertical-align: top;\n",
       "    }\n",
       "\n",
       "    .dataframe thead th {\n",
       "        text-align: right;\n",
       "    }\n",
       "</style>\n",
       "<table border=\"1\" class=\"dataframe\">\n",
       "  <thead>\n",
       "    <tr style=\"text-align: right;\">\n",
       "      <th></th>\n",
       "      <th>clean_text</th>\n",
       "      <th>target</th>\n",
       "    </tr>\n",
       "  </thead>\n",
       "  <tbody>\n",
       "    <tr>\n",
       "      <th>0</th>\n",
       "      <td>house dem aide even see comey letter jason cha...</td>\n",
       "      <td>1</td>\n",
       "    </tr>\n",
       "    <tr>\n",
       "      <th>1</th>\n",
       "      <td>flynn hillary clinton big woman campus breitbart</td>\n",
       "      <td>0</td>\n",
       "    </tr>\n",
       "    <tr>\n",
       "      <th>2</th>\n",
       "      <td>truth might get fired</td>\n",
       "      <td>1</td>\n",
       "    </tr>\n",
       "    <tr>\n",
       "      <th>3</th>\n",
       "      <td>civilian killed single u airstrike identified</td>\n",
       "      <td>1</td>\n",
       "    </tr>\n",
       "    <tr>\n",
       "      <th>4</th>\n",
       "      <td>iranian woman jailed fictional unpublished sto...</td>\n",
       "      <td>1</td>\n",
       "    </tr>\n",
       "    <tr>\n",
       "      <th>...</th>\n",
       "      <td>...</td>\n",
       "      <td>...</td>\n",
       "    </tr>\n",
       "    <tr>\n",
       "      <th>20795</th>\n",
       "      <td>rapper trump poster child white supremacy</td>\n",
       "      <td>0</td>\n",
       "    </tr>\n",
       "    <tr>\n",
       "      <th>20796</th>\n",
       "      <td>n f l playoff schedule matchup odds new york time</td>\n",
       "      <td>0</td>\n",
       "    </tr>\n",
       "    <tr>\n",
       "      <th>20797</th>\n",
       "      <td>macy said receive takeover approach hudson bay...</td>\n",
       "      <td>0</td>\n",
       "    </tr>\n",
       "    <tr>\n",
       "      <th>20798</th>\n",
       "      <td>nato russia hold parallel exercise balkan</td>\n",
       "      <td>1</td>\n",
       "    </tr>\n",
       "    <tr>\n",
       "      <th>20799</th>\n",
       "      <td>keep f alive</td>\n",
       "      <td>1</td>\n",
       "    </tr>\n",
       "  </tbody>\n",
       "</table>\n",
       "<p>20242 rows × 2 columns</p>\n",
       "</div>"
      ],
      "text/plain": [
       "                                              clean_text  target\n",
       "0      house dem aide even see comey letter jason cha...       1\n",
       "1       flynn hillary clinton big woman campus breitbart       0\n",
       "2                                  truth might get fired       1\n",
       "3          civilian killed single u airstrike identified       1\n",
       "4      iranian woman jailed fictional unpublished sto...       1\n",
       "...                                                  ...     ...\n",
       "20795          rapper trump poster child white supremacy       0\n",
       "20796  n f l playoff schedule matchup odds new york time       0\n",
       "20797  macy said receive takeover approach hudson bay...       0\n",
       "20798          nato russia hold parallel exercise balkan       1\n",
       "20799                                       keep f alive       1\n",
       "\n",
       "[20242 rows x 2 columns]"
      ]
     },
     "execution_count": 13,
     "metadata": {},
     "output_type": "execute_result"
    }
   ],
   "source": [
    "train[['clean_text','target']]"
   ]
  },
  {
   "cell_type": "markdown",
   "id": "1bc6e7b6",
   "metadata": {},
   "source": [
    "# Data Visualization"
   ]
  },
  {
   "cell_type": "code",
   "execution_count": 14,
   "id": "5d1e91e4",
   "metadata": {},
   "outputs": [],
   "source": [
    "#libraries\n",
    "import seaborn as sns\n",
    "from wordcloud import WordCloud\n",
    "import matplotlib.pyplot as plt"
   ]
  },
  {
   "cell_type": "code",
   "execution_count": 15,
   "id": "e496f2f0",
   "metadata": {},
   "outputs": [
    {
     "data": {
      "image/png": "[encoded data removed]",
      "text/plain": [
       "<Figure size 648x504 with 1 Axes>"
      ]
     },
     "metadata": {
      "needs_background": "light"
     },
     "output_type": "display_data"
    },
    {
     "name": "stdout",
     "output_type": "stream",
     "text": [
      "0    10387\n",
      "1     9855\n",
      "Name: target, dtype: int64\n"
     ]
    }
   ],
   "source": [
    "#visualizing the target \n",
    "plt.figure(figsize=(9,7))\n",
    "sns.countplot(train['target'])\n",
    "plt.show()\n",
    "print(train['target'].value_counts())"
   ]
  },
  {
   "cell_type": "code",
   "execution_count": 16,
   "id": "1d3a4ae7",
   "metadata": {
    "scrolled": true
   },
   "outputs": [
    {
     "data": {
      "image/png": "[encoded data removed]",
      "text/plain": [
       "<Figure size 432x288 with 1 Axes>"
      ]
     },
     "metadata": {
      "needs_background": "light"
     },
     "output_type": "display_data"
    }
   ],
   "source": [
    "#wordcloud of the words in a corpus\n",
    "doc=train['clean_text'].str.cat(sep=\" \") #string concatination of all text in a corpus\n",
    "wc=WordCloud(collocations=False, background_color='black').generate(doc) #generating wordcloud of all words  \n",
    "plt.imshow(wc)\n",
    "plt.show()"
   ]
  },
  {
   "cell_type": "markdown",
   "id": "c07cec39",
   "metadata": {},
   "source": [
    "# Text partition and vectorization"
   ]
  },
  {
   "cell_type": "code",
   "execution_count": 17,
   "id": "ceb0fe2c",
   "metadata": {},
   "outputs": [],
   "source": [
    "#dependencies\n",
    "from sklearn.feature_extraction.text import TfidfVectorizer, CountVectorizer\n",
    "from sklearn.model_selection import train_test_split"
   ]
  },
  {
   "cell_type": "code",
   "execution_count": 18,
   "id": "82c7ae2d",
   "metadata": {},
   "outputs": [],
   "source": [
    "#partition\n",
    "x=train['clean_text'].values #independent feature\n",
    "y=train['target'].values #dependent feature"
   ]
  },
  {
   "cell_type": "code",
   "execution_count": 19,
   "id": "20cf38c4",
   "metadata": {},
   "outputs": [],
   "source": [
    "#converting to vector\n",
    "tfidf=TfidfVectorizer(max_features=6000, ngram_range=(1,3))\n",
    "x1=tfidf.fit_transform(x)"
   ]
  },
  {
   "cell_type": "code",
   "execution_count": 20,
   "id": "55894005",
   "metadata": {},
   "outputs": [],
   "source": [
    "#train and test split\n",
    "x_train,x_val,y_train,y_val=train_test_split(x1,y, train_size=.95)"
   ]
  },
  {
   "cell_type": "markdown",
   "id": "aa16d365",
   "metadata": {},
   "source": [
    "# Creating Modeling "
   ]
  },
  {
   "cell_type": "code",
   "execution_count": 21,
   "id": "a9b73fd9",
   "metadata": {},
   "outputs": [],
   "source": [
    "#libreries \n",
    "from sklearn.linear_model import LogisticRegression\n",
    "from sklearn.naive_bayes import MultinomialNB,BernoulliNB,GaussianNB\n",
    "from sklearn.metrics import confusion_matrix,precision_score,accuracy_score"
   ]
  },
  {
   "cell_type": "markdown",
   "id": "c79e3031",
   "metadata": {},
   "source": [
    "# Logistic Regression"
   ]
  },
  {
   "cell_type": "code",
   "execution_count": 22,
   "id": "52e62464",
   "metadata": {},
   "outputs": [],
   "source": [
    "#object\n",
    "lgr=LogisticRegression(penalty='l1',C=1,solver='saga',max_iter=150)"
   ]
  },
  {
   "cell_type": "code",
   "execution_count": 23,
   "id": "1da6c524",
   "metadata": {},
   "outputs": [],
   "source": [
    "#??LogisticRegression"
   ]
  },
  {
   "cell_type": "code",
   "execution_count": 24,
   "id": "39c65c3a",
   "metadata": {},
   "outputs": [],
   "source": [
    "model=lgr.fit(x_train,y_train)"
   ]
  },
  {
   "cell_type": "code",
   "execution_count": 25,
   "id": "b8195771",
   "metadata": {},
   "outputs": [],
   "source": [
    "y_pred=model.predict(x_val)"
   ]
  },
  {
   "cell_type": "code",
   "execution_count": 26,
   "id": "93050d29",
   "metadata": {},
   "outputs": [
    {
     "name": "stdout",
     "output_type": "stream",
     "text": [
      "Accuracy rate: 0.9378084896347483\n",
      "\n",
      "Prec. Score: 0.8983666061705989\n",
      "\n",
      "Conf. matrx:\n",
      " [[455  56]\n",
      " [  7 495]]\n"
     ]
    }
   ],
   "source": [
    "print('Accuracy rate:', accuracy_score(y_val, y_pred))\n",
    "print()\n",
    "print('Prec. Score:', precision_score(y_val, y_pred))\n",
    "print()\n",
    "print('Conf. matrx:\\n', confusion_matrix(y_val, y_pred))"
   ]
  },
  {
   "cell_type": "code",
   "execution_count": 27,
   "id": "0b1ee099",
   "metadata": {},
   "outputs": [],
   "source": [
    "def check(text):\n",
    "    cleaned_text = text_preprocess(text)\n",
    "    doc = pd.Series(cleaned_text)\n",
    "    final_text = tfidf.transform(doc).toarray()\n",
    "    pred = lgr.predict(final_text.reshape(1,-1))\n",
    "    \n",
    "    if pred==0:\n",
    "        print(\"It's a True News\")\n",
    "    \n",
    "    else:\n",
    "        print(\"It's a Fake News\")"
   ]
  },
  {
   "cell_type": "code",
   "execution_count": 28,
   "id": "346df60f",
   "metadata": {},
   "outputs": [
    {
     "ename": "NameError",
     "evalue": "name 'check' is not defined",
     "output_type": "error",
     "traceback": [
      "\u001b[0;31m---------------------------------------------------------------------------\u001b[0m",
      "\u001b[0;31mNameError\u001b[0m                                 Traceback (most recent call last)",
      "Input \u001b[0;32mIn [28]\u001b[0m, in \u001b[0;36m<cell line: 1>\u001b[0;34m()\u001b[0m\n\u001b[0;32m----> 1\u001b[0m \u001b[43mpredict_news\u001b[49m(\u001b[38;5;124m\"\u001b[39m\u001b[38;5;124mHouse Dem Aide: We Didn’t Even See Comey’s Letter Until Jason Chaffetz Tweeted It\u001b[39m\u001b[38;5;124m\"\u001b[39m)\n",
      "\u001b[0;31mNameError\u001b[0m: name 'predict_news' is not defined"
     ]
    }
   ],
   "source": [
    "predict_news(\"House Dem Aide: We Didn’t Even See Comey’s Letter Until Jason Chaffetz Tweeted It\")"
   ]
  },
  {
   "cell_type": "markdown",
   "id": "573aee46",
   "metadata": {},
   "source": [
    "# Multinomial "
   ]
  },
  {
   "cell_type": "code",
   "execution_count": null,
   "id": "ad116756",
   "metadata": {},
   "outputs": [],
   "source": [
    "mnb=MultinomialNB(alpha=10,fit_prior=False, class_prior=None)"
   ]
  },
  {
   "cell_type": "code",
   "execution_count": null,
   "id": "8cee756b",
   "metadata": {},
   "outputs": [],
   "source": [
    "#??MultinomialNB"
   ]
  },
  {
   "cell_type": "code",
   "execution_count": null,
   "id": "b0351adf",
   "metadata": {},
   "outputs": [],
   "source": [
    "modelm=mnb.fit(x_train,y_train)\n",
    "y_predm=modelm.predict(x_val)\n",
    "print('Accuracy rate :', accuracy_score(y_val, y_predm))\n",
    "print()\n",
    "print('Prec. Score :', precision_score(y_val, y_predm))\n",
    "print()\n",
    "print('Conf. matrx : \\n', confusion_matrix(y_val, y_predm))"
   ]
  },
  {
   "cell_type": "code",
   "execution_count": null,
   "id": "4bae8d9c",
   "metadata": {},
   "outputs": [],
   "source": [
    "nltk.download()"
   ]
  },
  {
   "cell_type": "code",
   "execution_count": null,
   "id": "ceca3966",
   "metadata": {},
   "outputs": [],
   "source": []
  }
 ],
 "metadata": {
  "kernelspec": {
   "display_name": "Python 3 (ipykernel)",
   "language": "python",
   "name": "python3"
  },
  "language_info": {
   "codemirror_mode": {
    "name": "ipython",
    "version": 3
   },
   "file_extension": ".py",
   "mimetype": "text/x-python",
   "name": "python",
   "nbconvert_exporter": "python",
   "pygments_lexer": "ipython3",
   "version": "3.9.12"
  }
 },
 "nbformat": 4,
 "nbformat_minor": 5
}
